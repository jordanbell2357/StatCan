{
 "cells": [
  {
   "cell_type": "code",
   "execution_count": 1,
   "id": "f15eccf6-6be7-412d-a75f-4b034e20dec5",
   "metadata": {},
   "outputs": [],
   "source": [
    "import pandas as pd"
   ]
  },
  {
   "cell_type": "markdown",
   "id": "36743740-301d-47a1-ab8e-62a84b2e11fe",
   "metadata": {},
   "source": [
    "### Statistics Canada, 2016 Census"
   ]
  },
  {
   "cell_type": "markdown",
   "id": "b2fa3d59-2ce2-46ea-9d9c-c66ddf463214",
   "metadata": {},
   "source": [
    "[Census Profile, 2016 Census](https://www12.statcan.gc.ca/census-recensement/2016/dp-pd/prof/index.cfm?Lang=E)"
   ]
  },
  {
   "cell_type": "markdown",
   "id": "3d3a54ed-1164-4621-a418-ad66c6f56de1",
   "metadata": {},
   "source": [
    "#### Download dataset"
   ]
  },
  {
   "cell_type": "markdown",
   "id": "e327668f-22a2-44b6-8ecc-f3574d0ba793",
   "metadata": {},
   "source": [
    "Aggregate Dissemination Area (ADA) geographic level"
   ]
  },
  {
   "cell_type": "markdown",
   "id": "40c07b70-c48f-45ff-95c2-0820159681cd",
   "metadata": {},
   "source": [
    "```\n",
    "wget -O 98-401-X2016050_eng_CSV.zip https://www12.statcan.gc.ca/census-recensement/2016/dp-pd/prof/details/download-telecharger/comp/GetFile.cfm?Lang=E&FILETYPE=CSV&GEONO=050\n",
    "```"
   ]
  },
  {
   "cell_type": "markdown",
   "id": "e062f33a-ac4b-41b4-a188-77dba7287580",
   "metadata": {},
   "source": [
    "#### Read dataset"
   ]
  },
  {
   "cell_type": "code",
   "execution_count": 2,
   "id": "3f9d7cb6-9f69-44f4-b3cd-b3e5553fbc58",
   "metadata": {},
   "outputs": [],
   "source": [
    "# Tall CSV file\n",
    "df_raw = pd.read_csv('98-401-X2016050_eng_CSV/98-401-X2016050_English_CSV_data.csv', low_memory=False)"
   ]
  },
  {
   "cell_type": "markdown",
   "id": "092ae9b3-0652-4d6a-85d4-03ca6b3aa61d",
   "metadata": {},
   "source": [
    "#### Select columns to keep, and give new names to each of them"
   ]
  },
  {
   "cell_type": "code",
   "execution_count": 3,
   "id": "68ecd53e-b4ef-4ef6-bca6-307b975227e7",
   "metadata": {},
   "outputs": [],
   "source": [
    "columns_to_keep = ['GEO_CODE (POR)',\n",
    "                   'GEO_LEVEL',\n",
    "                   'DIM: Profile of Aggregate Dissemination Areas (2247)',\n",
    "                   'Dim: Sex (3): Member ID: [1]: Total - Sex']"
   ]
  },
  {
   "cell_type": "code",
   "execution_count": 4,
   "id": "cd1aed9f-0866-4d68-9741-144be1d5cff3",
   "metadata": {},
   "outputs": [],
   "source": [
    "df = df_raw[columns_to_keep]"
   ]
  },
  {
   "cell_type": "code",
   "execution_count": 5,
   "id": "753ca2b1-d608-49a4-b6e2-5e9f637e8881",
   "metadata": {
    "tags": []
   },
   "outputs": [],
   "source": [
    "columns_new_names = ['geo_code',\n",
    "                    'geo_level',\n",
    "                    'metric_name',\n",
    "                    'metric_total_value']"
   ]
  },
  {
   "cell_type": "code",
   "execution_count": 6,
   "id": "66122a19-b374-4e6d-b24a-5df0c34e097c",
   "metadata": {},
   "outputs": [],
   "source": [
    "column_name_dict = dict(zip(columns_to_keep, columns_new_names))"
   ]
  },
  {
   "cell_type": "code",
   "execution_count": 7,
   "id": "c4f1b61d-7e3c-4e86-8991-0debcb4170ba",
   "metadata": {},
   "outputs": [],
   "source": [
    "df = df.rename(columns = column_name_dict)"
   ]
  },
  {
   "cell_type": "markdown",
   "id": "99ea9088-50f3-41e7-968a-febc20e3a83b",
   "metadata": {},
   "source": [
    "### Filter rows for ADA, geo_level=3"
   ]
  },
  {
   "cell_type": "code",
   "execution_count": 8,
   "id": "0591564d-43c1-45ae-ac86-ccbd0eeb381e",
   "metadata": {},
   "outputs": [],
   "source": [
    "mask_geo_level = (df['geo_level'] == 3)"
   ]
  },
  {
   "cell_type": "code",
   "execution_count": 9,
   "id": "32e7f38b-e67a-46e6-8152-bd4368fa6147",
   "metadata": {},
   "outputs": [],
   "source": [
    "df = df[mask_geo_level]"
   ]
  },
  {
   "cell_type": "code",
   "execution_count": 10,
   "id": "eb45aff6-2720-46f4-8664-c26c7b7995b3",
   "metadata": {},
   "outputs": [
    {
     "data": {
      "text/plain": [
       "(12102342, 4)"
      ]
     },
     "execution_count": 10,
     "metadata": {},
     "output_type": "execute_result"
    }
   ],
   "source": [
    "df.shape"
   ]
  },
  {
   "cell_type": "code",
   "execution_count": 11,
   "id": "9d7f7b9e-a346-4c34-bd00-07ea2ab98d8a",
   "metadata": {},
   "outputs": [
    {
     "data": {
      "text/html": [
       "<div>\n",
       "<style scoped>\n",
       "    .dataframe tbody tr th:only-of-type {\n",
       "        vertical-align: middle;\n",
       "    }\n",
       "\n",
       "    .dataframe tbody tr th {\n",
       "        vertical-align: top;\n",
       "    }\n",
       "\n",
       "    .dataframe thead th {\n",
       "        text-align: right;\n",
       "    }\n",
       "</style>\n",
       "<table border=\"1\" class=\"dataframe\">\n",
       "  <thead>\n",
       "    <tr style=\"text-align: right;\">\n",
       "      <th></th>\n",
       "      <th>geo_code</th>\n",
       "      <th>geo_level</th>\n",
       "      <th>metric_name</th>\n",
       "      <th>metric_total_value</th>\n",
       "    </tr>\n",
       "  </thead>\n",
       "  <tbody>\n",
       "    <tr>\n",
       "      <th>6741</th>\n",
       "      <td>10010001</td>\n",
       "      <td>3</td>\n",
       "      <td>Population, 2016</td>\n",
       "      <td>9334</td>\n",
       "    </tr>\n",
       "    <tr>\n",
       "      <th>6742</th>\n",
       "      <td>10010001</td>\n",
       "      <td>3</td>\n",
       "      <td>Population, 2011</td>\n",
       "      <td>...</td>\n",
       "    </tr>\n",
       "    <tr>\n",
       "      <th>6743</th>\n",
       "      <td>10010001</td>\n",
       "      <td>3</td>\n",
       "      <td>Population percentage change, 2011 to 2016</td>\n",
       "      <td>...</td>\n",
       "    </tr>\n",
       "    <tr>\n",
       "      <th>6744</th>\n",
       "      <td>10010001</td>\n",
       "      <td>3</td>\n",
       "      <td>Total private dwellings</td>\n",
       "      <td>5620</td>\n",
       "    </tr>\n",
       "    <tr>\n",
       "      <th>6745</th>\n",
       "      <td>10010001</td>\n",
       "      <td>3</td>\n",
       "      <td>Private dwellings occupied by usual residents</td>\n",
       "      <td>4053</td>\n",
       "    </tr>\n",
       "  </tbody>\n",
       "</table>\n",
       "</div>"
      ],
      "text/plain": [
       "      geo_code  geo_level                                    metric_name  \\\n",
       "6741  10010001          3                               Population, 2016   \n",
       "6742  10010001          3                               Population, 2011   \n",
       "6743  10010001          3     Population percentage change, 2011 to 2016   \n",
       "6744  10010001          3                        Total private dwellings   \n",
       "6745  10010001          3  Private dwellings occupied by usual residents   \n",
       "\n",
       "     metric_total_value  \n",
       "6741               9334  \n",
       "6742                ...  \n",
       "6743                ...  \n",
       "6744               5620  \n",
       "6745               4053  "
      ]
     },
     "execution_count": 11,
     "metadata": {},
     "output_type": "execute_result"
    }
   ],
   "source": [
    "df.head()"
   ]
  },
  {
   "cell_type": "code",
   "execution_count": 12,
   "id": "fad90ec3-3c9c-487e-823d-a5b033faa286",
   "metadata": {},
   "outputs": [],
   "source": [
    "df.drop(columns='geo_level', inplace=True)"
   ]
  },
  {
   "cell_type": "markdown",
   "id": "4ab2f02c-4166-4e9f-80c6-ebe5ced7bd5c",
   "metadata": {},
   "source": [
    "#### Convert metric_total_value to numeric and coerce to NaN if non-numeric"
   ]
  },
  {
   "cell_type": "code",
   "execution_count": 13,
   "id": "65cf8536-1a4d-4e4d-9e6b-aa89ca2f8ff1",
   "metadata": {},
   "outputs": [],
   "source": [
    "df['metric_total_value'] = pd.to_numeric(df['metric_total_value'], errors='coerce')"
   ]
  },
  {
   "cell_type": "code",
   "execution_count": 14,
   "id": "734e9145-c3fd-4d3f-a1e3-f9d85e7c0bc2",
   "metadata": {},
   "outputs": [],
   "source": [
    "df.dropna(inplace=True)"
   ]
  },
  {
   "cell_type": "code",
   "execution_count": 15,
   "id": "7844cb2c-f556-4698-af3c-f262abc4f018",
   "metadata": {},
   "outputs": [
    {
     "data": {
      "text/plain": [
       "(10977128, 3)"
      ]
     },
     "execution_count": 15,
     "metadata": {},
     "output_type": "execute_result"
    }
   ],
   "source": [
    "# Around a tenth of the rows are dropped\n",
    "df.shape"
   ]
  },
  {
   "cell_type": "code",
   "execution_count": 16,
   "id": "cb3f635f-0ee0-431c-9441-ac25c7e7d073",
   "metadata": {},
   "outputs": [
    {
     "data": {
      "text/html": [
       "<div>\n",
       "<style scoped>\n",
       "    .dataframe tbody tr th:only-of-type {\n",
       "        vertical-align: middle;\n",
       "    }\n",
       "\n",
       "    .dataframe tbody tr th {\n",
       "        vertical-align: top;\n",
       "    }\n",
       "\n",
       "    .dataframe thead th {\n",
       "        text-align: right;\n",
       "    }\n",
       "</style>\n",
       "<table border=\"1\" class=\"dataframe\">\n",
       "  <thead>\n",
       "    <tr style=\"text-align: right;\">\n",
       "      <th></th>\n",
       "      <th>geo_code</th>\n",
       "      <th>metric_name</th>\n",
       "      <th>metric_total_value</th>\n",
       "    </tr>\n",
       "  </thead>\n",
       "  <tbody>\n",
       "    <tr>\n",
       "      <th>6741</th>\n",
       "      <td>10010001</td>\n",
       "      <td>Population, 2016</td>\n",
       "      <td>9334.00</td>\n",
       "    </tr>\n",
       "    <tr>\n",
       "      <th>6744</th>\n",
       "      <td>10010001</td>\n",
       "      <td>Total private dwellings</td>\n",
       "      <td>5620.00</td>\n",
       "    </tr>\n",
       "    <tr>\n",
       "      <th>6745</th>\n",
       "      <td>10010001</td>\n",
       "      <td>Private dwellings occupied by usual residents</td>\n",
       "      <td>4053.00</td>\n",
       "    </tr>\n",
       "    <tr>\n",
       "      <th>6746</th>\n",
       "      <td>10010001</td>\n",
       "      <td>Population density per square kilometre</td>\n",
       "      <td>9.80</td>\n",
       "    </tr>\n",
       "    <tr>\n",
       "      <th>6747</th>\n",
       "      <td>10010001</td>\n",
       "      <td>Land area in square kilometres</td>\n",
       "      <td>949.19</td>\n",
       "    </tr>\n",
       "  </tbody>\n",
       "</table>\n",
       "</div>"
      ],
      "text/plain": [
       "      geo_code                                    metric_name  \\\n",
       "6741  10010001                               Population, 2016   \n",
       "6744  10010001                        Total private dwellings   \n",
       "6745  10010001  Private dwellings occupied by usual residents   \n",
       "6746  10010001        Population density per square kilometre   \n",
       "6747  10010001                 Land area in square kilometres   \n",
       "\n",
       "      metric_total_value  \n",
       "6741             9334.00  \n",
       "6744             5620.00  \n",
       "6745             4053.00  \n",
       "6746                9.80  \n",
       "6747              949.19  "
      ]
     },
     "execution_count": 16,
     "metadata": {},
     "output_type": "execute_result"
    }
   ],
   "source": [
    "df.head()"
   ]
  },
  {
   "cell_type": "markdown",
   "id": "5b72a0f5-19cf-4fdb-b48f-002de5027c54",
   "metadata": {},
   "source": [
    "#### Metrics to use"
   ]
  },
  {
   "cell_type": "code",
   "execution_count": 17,
   "id": "d5b0b99b-a5b9-4888-a781-58ad42dcbb22",
   "metadata": {},
   "outputs": [],
   "source": [
    "metric_list = df['metric_name'].unique()"
   ]
  },
  {
   "cell_type": "code",
   "execution_count": 18,
   "id": "c392846e-e1fe-4985-8403-4be87a6fb272",
   "metadata": {},
   "outputs": [
    {
     "data": {
      "text/plain": [
       "True"
      ]
     },
     "execution_count": 18,
     "metadata": {},
     "output_type": "execute_result"
    }
   ],
   "source": [
    "'Total - Private households by tenure - 25% sample data' in metric_list"
   ]
  },
  {
   "cell_type": "code",
   "execution_count": 19,
   "id": "b19d8f64-3f4f-4625-8cf8-8f65da96701c",
   "metadata": {},
   "outputs": [],
   "source": [
    "metrics_to_keep = ['Population, 2016',\n",
    "                   'Population density per square kilometre',\n",
    "                   'Land area in square kilometres',\n",
    "                   'Average age of the population',\n",
    "                   'Median age of the population',\n",
    "                   'Median after-tax income in 2015 among recipients ($)',\n",
    "                   'Average after-tax income in 2015 among recipients ($)',\n",
    "                   'Non-immigrants',\n",
    "                   'Immigrants',\n",
    "                   'Total - Private households by tenure - 25% sample data',\n",
    "                   'Owner',\n",
    "                   'Renter',\n",
    "                   'Condominium',\n",
    "                   'Not condominium',\n",
    "                   'Median monthly shelter costs for owned dwellings ($)',\n",
    "                   'Average monthly shelter costs for owned dwellings ($)',\n",
    "                   'Median value of dwellings ($)',\n",
    "                   'Average value of dwellings ($)',\n",
    "                   'Median monthly shelter costs for rented dwellings ($)',\n",
    "                   'Average monthly shelter costs for rented dwellings ($)',\n",
    "                   'In the labour force',\n",
    "                   'Employed',\n",
    "                   'Unemployed',\n",
    "                   'Not in the labour force',\n",
    "                   'Participation rate',\n",
    "                   'Employment rate',\n",
    "                   'Unemployment rate']"
   ]
  },
  {
   "cell_type": "code",
   "execution_count": 20,
   "id": "2f0c74e2-8127-49ad-a14d-42e6d6bcd083",
   "metadata": {},
   "outputs": [],
   "source": [
    "i=0\n",
    "for metric in metrics_to_keep:\n",
    "    if metric not in metric_list:\n",
    "        print(metric)"
   ]
  },
  {
   "cell_type": "code",
   "execution_count": 21,
   "id": "cdaeda81-635a-4c08-9ece-707472d98022",
   "metadata": {},
   "outputs": [],
   "source": [
    "mask_metrics = (df['metric_name'].isin(metrics_to_keep))"
   ]
  },
  {
   "cell_type": "code",
   "execution_count": 22,
   "id": "dc6b7c62-8872-4549-b1e8-1a9c742e5634",
   "metadata": {},
   "outputs": [],
   "source": [
    "df = df[mask_metrics]"
   ]
  },
  {
   "cell_type": "code",
   "execution_count": 23,
   "id": "c16769bf-fa39-4b66-a9af-a4a65720cc41",
   "metadata": {},
   "outputs": [
    {
     "data": {
      "text/plain": [
       "(133591, 3)"
      ]
     },
     "execution_count": 23,
     "metadata": {},
     "output_type": "execute_result"
    }
   ],
   "source": [
    "# About 1/100 as many rows after mask as before\n",
    "df.shape"
   ]
  },
  {
   "cell_type": "code",
   "execution_count": 24,
   "id": "e4e00f07-8943-46bf-b6b0-d21ad8047595",
   "metadata": {},
   "outputs": [],
   "source": [
    "# Used this to get uniqueness for pivot table; should not have been required because\n",
    "# there should not be duplicates. It is no longer required.\n",
    "# df[['geo_code', 'metric_name', 'metric_total_value']].drop_duplicates(inplace=True)\n",
    "# Same number of rows as before dropping duplicates - namely no duplicate rows.\n",
    "# df.shape"
   ]
  },
  {
   "cell_type": "code",
   "execution_count": 25,
   "id": "80d4c9ae-a7cd-4dd1-9cda-5ec752dec3c0",
   "metadata": {},
   "outputs": [
    {
     "data": {
      "text/html": [
       "<div>\n",
       "<style scoped>\n",
       "    .dataframe tbody tr th:only-of-type {\n",
       "        vertical-align: middle;\n",
       "    }\n",
       "\n",
       "    .dataframe tbody tr th {\n",
       "        vertical-align: top;\n",
       "    }\n",
       "\n",
       "    .dataframe thead th {\n",
       "        text-align: right;\n",
       "    }\n",
       "</style>\n",
       "<table border=\"1\" class=\"dataframe\">\n",
       "  <thead>\n",
       "    <tr style=\"text-align: right;\">\n",
       "      <th></th>\n",
       "      <th>geo_code</th>\n",
       "      <th>metric_name</th>\n",
       "      <th>metric_total_value</th>\n",
       "    </tr>\n",
       "  </thead>\n",
       "  <tbody>\n",
       "    <tr>\n",
       "      <th>6741</th>\n",
       "      <td>10010001</td>\n",
       "      <td>Population, 2016</td>\n",
       "      <td>9334.00</td>\n",
       "    </tr>\n",
       "    <tr>\n",
       "      <th>6746</th>\n",
       "      <td>10010001</td>\n",
       "      <td>Population density per square kilometre</td>\n",
       "      <td>9.80</td>\n",
       "    </tr>\n",
       "    <tr>\n",
       "      <th>6747</th>\n",
       "      <td>10010001</td>\n",
       "      <td>Land area in square kilometres</td>\n",
       "      <td>949.19</td>\n",
       "    </tr>\n",
       "    <tr>\n",
       "      <th>6779</th>\n",
       "      <td>10010001</td>\n",
       "      <td>Average age of the population</td>\n",
       "      <td>49.10</td>\n",
       "    </tr>\n",
       "    <tr>\n",
       "      <th>6780</th>\n",
       "      <td>10010001</td>\n",
       "      <td>Median age of the population</td>\n",
       "      <td>53.70</td>\n",
       "    </tr>\n",
       "  </tbody>\n",
       "</table>\n",
       "</div>"
      ],
      "text/plain": [
       "      geo_code                              metric_name  metric_total_value\n",
       "6741  10010001                         Population, 2016             9334.00\n",
       "6746  10010001  Population density per square kilometre                9.80\n",
       "6747  10010001           Land area in square kilometres              949.19\n",
       "6779  10010001            Average age of the population               49.10\n",
       "6780  10010001             Median age of the population               53.70"
      ]
     },
     "execution_count": 25,
     "metadata": {},
     "output_type": "execute_result"
    }
   ],
   "source": [
    "df.head()"
   ]
  },
  {
   "cell_type": "code",
   "execution_count": 26,
   "id": "e95d018d-8e8f-4ba0-bf6f-75b317b28595",
   "metadata": {},
   "outputs": [
    {
     "data": {
      "text/plain": [
       "(133591, 3)"
      ]
     },
     "execution_count": 26,
     "metadata": {},
     "output_type": "execute_result"
    }
   ],
   "source": [
    "df.shape"
   ]
  },
  {
   "cell_type": "markdown",
   "id": "2f2fc3de-ba25-4053-8cd7-69d891a31f26",
   "metadata": {},
   "source": [
    "#### Pivot table"
   ]
  },
  {
   "cell_type": "code",
   "execution_count": 27,
   "id": "f2d5e109-a117-46ac-8afb-4a25c6a44494",
   "metadata": {},
   "outputs": [],
   "source": [
    "df_wide = df.pivot(index = 'geo_code', columns = 'metric_name', values = 'metric_total_value')"
   ]
  },
  {
   "cell_type": "code",
   "execution_count": 28,
   "id": "e1bdc83c-815b-416a-99ca-4c72ed588250",
   "metadata": {},
   "outputs": [
    {
     "data": {
      "text/plain": [
       "['Average after-tax income in 2015 among recipients ($)',\n",
       " 'Average age of the population',\n",
       " 'Average monthly shelter costs for owned dwellings ($)',\n",
       " 'Average monthly shelter costs for rented dwellings ($)',\n",
       " 'Average value of dwellings ($)',\n",
       " 'Condominium',\n",
       " 'Employed',\n",
       " 'Employment rate',\n",
       " 'Immigrants',\n",
       " 'In the labour force',\n",
       " 'Land area in square kilometres',\n",
       " 'Median after-tax income in 2015 among recipients ($)',\n",
       " 'Median age of the population',\n",
       " 'Median monthly shelter costs for owned dwellings ($)',\n",
       " 'Median monthly shelter costs for rented dwellings ($)',\n",
       " 'Median value of dwellings ($)',\n",
       " 'Non-immigrants',\n",
       " 'Not condominium',\n",
       " 'Not in the labour force',\n",
       " 'Owner',\n",
       " 'Participation rate',\n",
       " 'Population density per square kilometre',\n",
       " 'Population, 2016',\n",
       " 'Renter',\n",
       " 'Total - Private households by tenure - 25% sample data',\n",
       " 'Unemployed',\n",
       " 'Unemployment rate']"
      ]
     },
     "execution_count": 28,
     "metadata": {},
     "output_type": "execute_result"
    }
   ],
   "source": [
    "df_wide.columns.tolist()"
   ]
  },
  {
   "cell_type": "code",
   "execution_count": 29,
   "id": "1e2cb721-8587-4a18-a998-c22e8675fadd",
   "metadata": {},
   "outputs": [
    {
     "data": {
      "text/html": [
       "<div>\n",
       "<style scoped>\n",
       "    .dataframe tbody tr th:only-of-type {\n",
       "        vertical-align: middle;\n",
       "    }\n",
       "\n",
       "    .dataframe tbody tr th {\n",
       "        vertical-align: top;\n",
       "    }\n",
       "\n",
       "    .dataframe thead th {\n",
       "        text-align: right;\n",
       "    }\n",
       "</style>\n",
       "<table border=\"1\" class=\"dataframe\">\n",
       "  <thead>\n",
       "    <tr style=\"text-align: right;\">\n",
       "      <th>metric_name</th>\n",
       "      <th>Average after-tax income in 2015 among recipients ($)</th>\n",
       "      <th>Average age of the population</th>\n",
       "      <th>Average monthly shelter costs for owned dwellings ($)</th>\n",
       "      <th>Average monthly shelter costs for rented dwellings ($)</th>\n",
       "      <th>Average value of dwellings ($)</th>\n",
       "      <th>Condominium</th>\n",
       "      <th>Employed</th>\n",
       "      <th>Employment rate</th>\n",
       "      <th>Immigrants</th>\n",
       "      <th>In the labour force</th>\n",
       "      <th>...</th>\n",
       "      <th>Not condominium</th>\n",
       "      <th>Not in the labour force</th>\n",
       "      <th>Owner</th>\n",
       "      <th>Participation rate</th>\n",
       "      <th>Population density per square kilometre</th>\n",
       "      <th>Population, 2016</th>\n",
       "      <th>Renter</th>\n",
       "      <th>Total - Private households by tenure - 25% sample data</th>\n",
       "      <th>Unemployed</th>\n",
       "      <th>Unemployment rate</th>\n",
       "    </tr>\n",
       "    <tr>\n",
       "      <th>geo_code</th>\n",
       "      <th></th>\n",
       "      <th></th>\n",
       "      <th></th>\n",
       "      <th></th>\n",
       "      <th></th>\n",
       "      <th></th>\n",
       "      <th></th>\n",
       "      <th></th>\n",
       "      <th></th>\n",
       "      <th></th>\n",
       "      <th></th>\n",
       "      <th></th>\n",
       "      <th></th>\n",
       "      <th></th>\n",
       "      <th></th>\n",
       "      <th></th>\n",
       "      <th></th>\n",
       "      <th></th>\n",
       "      <th></th>\n",
       "      <th></th>\n",
       "      <th></th>\n",
       "    </tr>\n",
       "  </thead>\n",
       "  <tbody>\n",
       "    <tr>\n",
       "      <th>10010001</th>\n",
       "      <td>30657.0</td>\n",
       "      <td>49.1</td>\n",
       "      <td>625.0</td>\n",
       "      <td>721.0</td>\n",
       "      <td>169524.0</td>\n",
       "      <td>10.0</td>\n",
       "      <td>3410.0</td>\n",
       "      <td>41.7</td>\n",
       "      <td>90.0</td>\n",
       "      <td>4095.0</td>\n",
       "      <td>...</td>\n",
       "      <td>4040.0</td>\n",
       "      <td>4075.0</td>\n",
       "      <td>3715.0</td>\n",
       "      <td>50.1</td>\n",
       "      <td>9.8</td>\n",
       "      <td>9334.0</td>\n",
       "      <td>340.0</td>\n",
       "      <td>4050.0</td>\n",
       "      <td>690.0</td>\n",
       "      <td>16.8</td>\n",
       "    </tr>\n",
       "    <tr>\n",
       "      <th>10010002</th>\n",
       "      <td>38844.0</td>\n",
       "      <td>38.7</td>\n",
       "      <td>1224.0</td>\n",
       "      <td>951.0</td>\n",
       "      <td>317514.0</td>\n",
       "      <td>10.0</td>\n",
       "      <td>2045.0</td>\n",
       "      <td>60.1</td>\n",
       "      <td>65.0</td>\n",
       "      <td>2315.0</td>\n",
       "      <td>...</td>\n",
       "      <td>1580.0</td>\n",
       "      <td>1090.0</td>\n",
       "      <td>1435.0</td>\n",
       "      <td>68.0</td>\n",
       "      <td>45.5</td>\n",
       "      <td>4204.0</td>\n",
       "      <td>150.0</td>\n",
       "      <td>1590.0</td>\n",
       "      <td>270.0</td>\n",
       "      <td>11.7</td>\n",
       "    </tr>\n",
       "    <tr>\n",
       "      <th>10010003</th>\n",
       "      <td>33247.0</td>\n",
       "      <td>45.8</td>\n",
       "      <td>824.0</td>\n",
       "      <td>735.0</td>\n",
       "      <td>219755.0</td>\n",
       "      <td>60.0</td>\n",
       "      <td>4200.0</td>\n",
       "      <td>43.5</td>\n",
       "      <td>100.0</td>\n",
       "      <td>5155.0</td>\n",
       "      <td>...</td>\n",
       "      <td>4705.0</td>\n",
       "      <td>4490.0</td>\n",
       "      <td>3945.0</td>\n",
       "      <td>53.4</td>\n",
       "      <td>58.5</td>\n",
       "      <td>11417.0</td>\n",
       "      <td>820.0</td>\n",
       "      <td>4765.0</td>\n",
       "      <td>955.0</td>\n",
       "      <td>18.5</td>\n",
       "    </tr>\n",
       "    <tr>\n",
       "      <th>10010004</th>\n",
       "      <td>52703.0</td>\n",
       "      <td>44.5</td>\n",
       "      <td>1412.0</td>\n",
       "      <td>1043.0</td>\n",
       "      <td>407155.0</td>\n",
       "      <td>285.0</td>\n",
       "      <td>4735.0</td>\n",
       "      <td>57.7</td>\n",
       "      <td>965.0</td>\n",
       "      <td>5120.0</td>\n",
       "      <td>...</td>\n",
       "      <td>3680.0</td>\n",
       "      <td>3085.0</td>\n",
       "      <td>3000.0</td>\n",
       "      <td>62.4</td>\n",
       "      <td>296.3</td>\n",
       "      <td>10406.0</td>\n",
       "      <td>965.0</td>\n",
       "      <td>3965.0</td>\n",
       "      <td>385.0</td>\n",
       "      <td>7.5</td>\n",
       "    </tr>\n",
       "    <tr>\n",
       "      <th>10010005</th>\n",
       "      <td>46622.0</td>\n",
       "      <td>37.4</td>\n",
       "      <td>1491.0</td>\n",
       "      <td>979.0</td>\n",
       "      <td>383891.0</td>\n",
       "      <td>15.0</td>\n",
       "      <td>4785.0</td>\n",
       "      <td>64.8</td>\n",
       "      <td>150.0</td>\n",
       "      <td>5175.0</td>\n",
       "      <td>...</td>\n",
       "      <td>3400.0</td>\n",
       "      <td>2205.0</td>\n",
       "      <td>2930.0</td>\n",
       "      <td>70.1</td>\n",
       "      <td>189.5</td>\n",
       "      <td>9442.0</td>\n",
       "      <td>480.0</td>\n",
       "      <td>3415.0</td>\n",
       "      <td>385.0</td>\n",
       "      <td>7.4</td>\n",
       "    </tr>\n",
       "  </tbody>\n",
       "</table>\n",
       "<p>5 rows × 27 columns</p>\n",
       "</div>"
      ],
      "text/plain": [
       "metric_name  Average after-tax income in 2015 among recipients ($)  \\\n",
       "geo_code                                                             \n",
       "10010001                                               30657.0       \n",
       "10010002                                               38844.0       \n",
       "10010003                                               33247.0       \n",
       "10010004                                               52703.0       \n",
       "10010005                                               46622.0       \n",
       "\n",
       "metric_name  Average age of the population  \\\n",
       "geo_code                                     \n",
       "10010001                              49.1   \n",
       "10010002                              38.7   \n",
       "10010003                              45.8   \n",
       "10010004                              44.5   \n",
       "10010005                              37.4   \n",
       "\n",
       "metric_name  Average monthly shelter costs for owned dwellings ($)  \\\n",
       "geo_code                                                             \n",
       "10010001                                                 625.0       \n",
       "10010002                                                1224.0       \n",
       "10010003                                                 824.0       \n",
       "10010004                                                1412.0       \n",
       "10010005                                                1491.0       \n",
       "\n",
       "metric_name  Average monthly shelter costs for rented dwellings ($)  \\\n",
       "geo_code                                                              \n",
       "10010001                                                 721.0        \n",
       "10010002                                                 951.0        \n",
       "10010003                                                 735.0        \n",
       "10010004                                                1043.0        \n",
       "10010005                                                 979.0        \n",
       "\n",
       "metric_name  Average value of dwellings ($)  Condominium  Employed  \\\n",
       "geo_code                                                             \n",
       "10010001                           169524.0         10.0    3410.0   \n",
       "10010002                           317514.0         10.0    2045.0   \n",
       "10010003                           219755.0         60.0    4200.0   \n",
       "10010004                           407155.0        285.0    4735.0   \n",
       "10010005                           383891.0         15.0    4785.0   \n",
       "\n",
       "metric_name  Employment rate  Immigrants  In the labour force  ...  \\\n",
       "geo_code                                                       ...   \n",
       "10010001                41.7        90.0               4095.0  ...   \n",
       "10010002                60.1        65.0               2315.0  ...   \n",
       "10010003                43.5       100.0               5155.0  ...   \n",
       "10010004                57.7       965.0               5120.0  ...   \n",
       "10010005                64.8       150.0               5175.0  ...   \n",
       "\n",
       "metric_name  Not condominium  Not in the labour force   Owner  \\\n",
       "geo_code                                                        \n",
       "10010001              4040.0                   4075.0  3715.0   \n",
       "10010002              1580.0                   1090.0  1435.0   \n",
       "10010003              4705.0                   4490.0  3945.0   \n",
       "10010004              3680.0                   3085.0  3000.0   \n",
       "10010005              3400.0                   2205.0  2930.0   \n",
       "\n",
       "metric_name  Participation rate  Population density per square kilometre  \\\n",
       "geo_code                                                                   \n",
       "10010001                   50.1                                      9.8   \n",
       "10010002                   68.0                                     45.5   \n",
       "10010003                   53.4                                     58.5   \n",
       "10010004                   62.4                                    296.3   \n",
       "10010005                   70.1                                    189.5   \n",
       "\n",
       "metric_name  Population, 2016  Renter  \\\n",
       "geo_code                                \n",
       "10010001               9334.0   340.0   \n",
       "10010002               4204.0   150.0   \n",
       "10010003              11417.0   820.0   \n",
       "10010004              10406.0   965.0   \n",
       "10010005               9442.0   480.0   \n",
       "\n",
       "metric_name  Total - Private households by tenure - 25% sample data  \\\n",
       "geo_code                                                              \n",
       "10010001                                                4050.0        \n",
       "10010002                                                1590.0        \n",
       "10010003                                                4765.0        \n",
       "10010004                                                3965.0        \n",
       "10010005                                                3415.0        \n",
       "\n",
       "metric_name  Unemployed  Unemployment rate  \n",
       "geo_code                                    \n",
       "10010001          690.0               16.8  \n",
       "10010002          270.0               11.7  \n",
       "10010003          955.0               18.5  \n",
       "10010004          385.0                7.5  \n",
       "10010005          385.0                7.4  \n",
       "\n",
       "[5 rows x 27 columns]"
      ]
     },
     "execution_count": 29,
     "metadata": {},
     "output_type": "execute_result"
    }
   ],
   "source": [
    "df_wide.head()"
   ]
  },
  {
   "cell_type": "code",
   "execution_count": 30,
   "id": "a4ddffca-6660-4e1d-b5f5-3865423006d0",
   "metadata": {},
   "outputs": [
    {
     "data": {
      "text/plain": [
       "(5386, 27)"
      ]
     },
     "execution_count": 30,
     "metadata": {},
     "output_type": "execute_result"
    }
   ],
   "source": [
    "df_wide.shape"
   ]
  },
  {
   "cell_type": "code",
   "execution_count": 31,
   "id": "490abb43-aaa2-478e-a3dc-8b7ebb4d85b6",
   "metadata": {},
   "outputs": [],
   "source": [
    "df_wide.dropna(inplace=True)"
   ]
  },
  {
   "cell_type": "code",
   "execution_count": 32,
   "id": "63b75f48-ace4-433d-89bd-fc1ed76219cb",
   "metadata": {},
   "outputs": [
    {
     "data": {
      "text/plain": [
       "(4613, 27)"
      ]
     },
     "execution_count": 32,
     "metadata": {},
     "output_type": "execute_result"
    }
   ],
   "source": [
    "df_wide.shape"
   ]
  },
  {
   "cell_type": "markdown",
   "id": "52b07e97-d859-4f34-9a3c-a07e76237e3e",
   "metadata": {},
   "source": [
    "#### Matplotlib inspection"
   ]
  },
  {
   "cell_type": "code",
   "execution_count": 33,
   "id": "88c9f568-47c1-4373-b5a3-c2a019897c39",
   "metadata": {},
   "outputs": [],
   "source": [
    "import matplotlib.pyplot as plt"
   ]
  },
  {
   "cell_type": "code",
   "execution_count": 34,
   "id": "4e38cc9b-fd52-4489-9b33-b157ef811516",
   "metadata": {},
   "outputs": [
    {
     "data": {
      "image/png": "[encoded data removed]",
      "text/plain": [
       "<Figure size 640x480 with 1 Axes>"
      ]
     },
     "metadata": {},
     "output_type": "display_data"
    }
   ],
   "source": [
    "fig, ax = plt.subplots()\n",
    "ax.hist(df_wide['Renter'] / df_wide['Total - Private households by tenure - 25% sample data'])\n",
    "ax.set_xlabel(\"Proportion of renters among households\")\n",
    "ax.set_ylabel(\"Number of ADA's\")\n",
    "plt.show()"
   ]
  },
  {
   "cell_type": "code",
   "execution_count": 35,
   "id": "5a94aead-dc71-4f1f-bce3-7fc447653b3e",
   "metadata": {},
   "outputs": [
    {
     "data": {
      "image/png": "[encoded data removed]",
      "text/plain": [
       "<Figure size 640x480 with 1 Axes>"
      ]
     },
     "metadata": {},
     "output_type": "display_data"
    }
   ],
   "source": [
    "fig, ax = plt.subplots()\n",
    "ax.hist(df_wide['Median after-tax income in 2015 among recipients ($)'], color='r')\n",
    "ax.set_xlabel(\"Median after-tax income in 2015 among recipients ($)\")\n",
    "ax.set_ylabel(\"Number of ADA's\")\n",
    "plt.show()"
   ]
  },
  {
   "cell_type": "code",
   "execution_count": 36,
   "id": "5a018b1e-30b7-41cb-8529-f1844f8d3c85",
   "metadata": {},
   "outputs": [
    {
     "data": {
      "image/png": "[encoded data removed]",
      "text/plain": [
       "<Figure size 640x480 with 1 Axes>"
      ]
     },
     "metadata": {},
     "output_type": "display_data"
    }
   ],
   "source": [
    "fig, ax = plt.subplots()\n",
    "ax.hist(df_wide['Average after-tax income in 2015 among recipients ($)'], color='r')\n",
    "ax.set_xlabel(\"Average after-tax income in 2015 among recipients ($)\")\n",
    "ax.set_ylabel(\"Number of ADA's\")\n",
    "plt.show()"
   ]
  },
  {
   "cell_type": "code",
   "execution_count": 37,
   "id": "d431a991-9cd0-4dbb-a513-914d0993cace",
   "metadata": {},
   "outputs": [
    {
     "data": {
      "image/png": "[encoded data removed]",
      "text/plain": [
       "<Figure size 640x480 with 1 Axes>"
      ]
     },
     "metadata": {},
     "output_type": "display_data"
    }
   ],
   "source": [
    "fig, ax = plt.subplots()\n",
    "ax.scatter(df_wide['Median after-tax income in 2015 among recipients ($)'], \\\n",
    "           df_wide['Average after-tax income in 2015 among recipients ($)'])\n",
    "ax.set_xlabel('Median after-tax income in 2015 among recipients ($)')\n",
    "ax.set_ylabel('Average after-tax income in 2015 among recipients ($)')\n",
    "plt.show()"
   ]
  },
  {
   "cell_type": "markdown",
   "id": "5f024da4-d238-4e40-b6e5-f434c707f62b",
   "metadata": {},
   "source": [
    "#### scikit-learn"
   ]
  },
  {
   "cell_type": "code",
   "execution_count": 38,
   "id": "75abf260-7411-4cfb-af23-05275ab30134",
   "metadata": {},
   "outputs": [],
   "source": [
    "import numpy as np\n",
    "from sklearn.linear_model import LinearRegression "
   ]
  },
  {
   "cell_type": "code",
   "execution_count": 39,
   "id": "dfba2dcd-74eb-4a64-9d1e-7daa1b6a9174",
   "metadata": {},
   "outputs": [],
   "source": [
    "target_column = 'Average after-tax income in 2015 among recipients ($)'\n",
    "feature_columns = metrics_to_keep.copy()\n",
    "feature_columns.remove(target_column)"
   ]
  },
  {
   "cell_type": "code",
   "execution_count": 40,
   "id": "ee05abc9-65e0-4032-8a74-6733791de6fe",
   "metadata": {},
   "outputs": [
    {
     "data": {
      "text/plain": [
       "['Population, 2016',\n",
       " 'Population density per square kilometre',\n",
       " 'Land area in square kilometres',\n",
       " 'Average age of the population',\n",
       " 'Median age of the population',\n",
       " 'Median after-tax income in 2015 among recipients ($)',\n",
       " 'Non-immigrants',\n",
       " 'Immigrants',\n",
       " 'Total - Private households by tenure - 25% sample data',\n",
       " 'Owner',\n",
       " 'Renter',\n",
       " 'Condominium',\n",
       " 'Not condominium',\n",
       " 'Median monthly shelter costs for owned dwellings ($)',\n",
       " 'Average monthly shelter costs for owned dwellings ($)',\n",
       " 'Median value of dwellings ($)',\n",
       " 'Average value of dwellings ($)',\n",
       " 'Median monthly shelter costs for rented dwellings ($)',\n",
       " 'Average monthly shelter costs for rented dwellings ($)',\n",
       " 'In the labour force',\n",
       " 'Employed',\n",
       " 'Unemployed',\n",
       " 'Not in the labour force',\n",
       " 'Participation rate',\n",
       " 'Employment rate',\n",
       " 'Unemployment rate']"
      ]
     },
     "execution_count": 40,
     "metadata": {},
     "output_type": "execute_result"
    }
   ],
   "source": [
    "feature_columns"
   ]
  },
  {
   "cell_type": "code",
   "execution_count": 41,
   "id": "37bf19b2-227b-44fe-b72f-5c94be0cdfe4",
   "metadata": {},
   "outputs": [
    {
     "data": {
      "text/html": [
       "<div>\n",
       "<style scoped>\n",
       "    .dataframe tbody tr th:only-of-type {\n",
       "        vertical-align: middle;\n",
       "    }\n",
       "\n",
       "    .dataframe tbody tr th {\n",
       "        vertical-align: top;\n",
       "    }\n",
       "\n",
       "    .dataframe thead th {\n",
       "        text-align: right;\n",
       "    }\n",
       "</style>\n",
       "<table border=\"1\" class=\"dataframe\">\n",
       "  <thead>\n",
       "    <tr style=\"text-align: right;\">\n",
       "      <th>metric_name</th>\n",
       "      <th>Average after-tax income in 2015 among recipients ($)</th>\n",
       "      <th>Average age of the population</th>\n",
       "      <th>Average monthly shelter costs for owned dwellings ($)</th>\n",
       "      <th>Average monthly shelter costs for rented dwellings ($)</th>\n",
       "      <th>Average value of dwellings ($)</th>\n",
       "      <th>Condominium</th>\n",
       "      <th>Employed</th>\n",
       "      <th>Employment rate</th>\n",
       "      <th>Immigrants</th>\n",
       "      <th>In the labour force</th>\n",
       "      <th>...</th>\n",
       "      <th>Not condominium</th>\n",
       "      <th>Not in the labour force</th>\n",
       "      <th>Owner</th>\n",
       "      <th>Participation rate</th>\n",
       "      <th>Population density per square kilometre</th>\n",
       "      <th>Population, 2016</th>\n",
       "      <th>Renter</th>\n",
       "      <th>Total - Private households by tenure - 25% sample data</th>\n",
       "      <th>Unemployed</th>\n",
       "      <th>Unemployment rate</th>\n",
       "    </tr>\n",
       "    <tr>\n",
       "      <th>geo_code</th>\n",
       "      <th></th>\n",
       "      <th></th>\n",
       "      <th></th>\n",
       "      <th></th>\n",
       "      <th></th>\n",
       "      <th></th>\n",
       "      <th></th>\n",
       "      <th></th>\n",
       "      <th></th>\n",
       "      <th></th>\n",
       "      <th></th>\n",
       "      <th></th>\n",
       "      <th></th>\n",
       "      <th></th>\n",
       "      <th></th>\n",
       "      <th></th>\n",
       "      <th></th>\n",
       "      <th></th>\n",
       "      <th></th>\n",
       "      <th></th>\n",
       "      <th></th>\n",
       "    </tr>\n",
       "  </thead>\n",
       "  <tbody>\n",
       "    <tr>\n",
       "      <th>10010001</th>\n",
       "      <td>30657.0</td>\n",
       "      <td>49.1</td>\n",
       "      <td>625.0</td>\n",
       "      <td>721.0</td>\n",
       "      <td>169524.0</td>\n",
       "      <td>10.0</td>\n",
       "      <td>3410.0</td>\n",
       "      <td>41.7</td>\n",
       "      <td>90.0</td>\n",
       "      <td>4095.0</td>\n",
       "      <td>...</td>\n",
       "      <td>4040.0</td>\n",
       "      <td>4075.0</td>\n",
       "      <td>3715.0</td>\n",
       "      <td>50.1</td>\n",
       "      <td>9.8</td>\n",
       "      <td>9334.0</td>\n",
       "      <td>340.0</td>\n",
       "      <td>4050.0</td>\n",
       "      <td>690.0</td>\n",
       "      <td>16.8</td>\n",
       "    </tr>\n",
       "    <tr>\n",
       "      <th>10010002</th>\n",
       "      <td>38844.0</td>\n",
       "      <td>38.7</td>\n",
       "      <td>1224.0</td>\n",
       "      <td>951.0</td>\n",
       "      <td>317514.0</td>\n",
       "      <td>10.0</td>\n",
       "      <td>2045.0</td>\n",
       "      <td>60.1</td>\n",
       "      <td>65.0</td>\n",
       "      <td>2315.0</td>\n",
       "      <td>...</td>\n",
       "      <td>1580.0</td>\n",
       "      <td>1090.0</td>\n",
       "      <td>1435.0</td>\n",
       "      <td>68.0</td>\n",
       "      <td>45.5</td>\n",
       "      <td>4204.0</td>\n",
       "      <td>150.0</td>\n",
       "      <td>1590.0</td>\n",
       "      <td>270.0</td>\n",
       "      <td>11.7</td>\n",
       "    </tr>\n",
       "    <tr>\n",
       "      <th>10010003</th>\n",
       "      <td>33247.0</td>\n",
       "      <td>45.8</td>\n",
       "      <td>824.0</td>\n",
       "      <td>735.0</td>\n",
       "      <td>219755.0</td>\n",
       "      <td>60.0</td>\n",
       "      <td>4200.0</td>\n",
       "      <td>43.5</td>\n",
       "      <td>100.0</td>\n",
       "      <td>5155.0</td>\n",
       "      <td>...</td>\n",
       "      <td>4705.0</td>\n",
       "      <td>4490.0</td>\n",
       "      <td>3945.0</td>\n",
       "      <td>53.4</td>\n",
       "      <td>58.5</td>\n",
       "      <td>11417.0</td>\n",
       "      <td>820.0</td>\n",
       "      <td>4765.0</td>\n",
       "      <td>955.0</td>\n",
       "      <td>18.5</td>\n",
       "    </tr>\n",
       "    <tr>\n",
       "      <th>10010004</th>\n",
       "      <td>52703.0</td>\n",
       "      <td>44.5</td>\n",
       "      <td>1412.0</td>\n",
       "      <td>1043.0</td>\n",
       "      <td>407155.0</td>\n",
       "      <td>285.0</td>\n",
       "      <td>4735.0</td>\n",
       "      <td>57.7</td>\n",
       "      <td>965.0</td>\n",
       "      <td>5120.0</td>\n",
       "      <td>...</td>\n",
       "      <td>3680.0</td>\n",
       "      <td>3085.0</td>\n",
       "      <td>3000.0</td>\n",
       "      <td>62.4</td>\n",
       "      <td>296.3</td>\n",
       "      <td>10406.0</td>\n",
       "      <td>965.0</td>\n",
       "      <td>3965.0</td>\n",
       "      <td>385.0</td>\n",
       "      <td>7.5</td>\n",
       "    </tr>\n",
       "    <tr>\n",
       "      <th>10010005</th>\n",
       "      <td>46622.0</td>\n",
       "      <td>37.4</td>\n",
       "      <td>1491.0</td>\n",
       "      <td>979.0</td>\n",
       "      <td>383891.0</td>\n",
       "      <td>15.0</td>\n",
       "      <td>4785.0</td>\n",
       "      <td>64.8</td>\n",
       "      <td>150.0</td>\n",
       "      <td>5175.0</td>\n",
       "      <td>...</td>\n",
       "      <td>3400.0</td>\n",
       "      <td>2205.0</td>\n",
       "      <td>2930.0</td>\n",
       "      <td>70.1</td>\n",
       "      <td>189.5</td>\n",
       "      <td>9442.0</td>\n",
       "      <td>480.0</td>\n",
       "      <td>3415.0</td>\n",
       "      <td>385.0</td>\n",
       "      <td>7.4</td>\n",
       "    </tr>\n",
       "  </tbody>\n",
       "</table>\n",
       "<p>5 rows × 27 columns</p>\n",
       "</div>"
      ],
      "text/plain": [
       "metric_name  Average after-tax income in 2015 among recipients ($)  \\\n",
       "geo_code                                                             \n",
       "10010001                                               30657.0       \n",
       "10010002                                               38844.0       \n",
       "10010003                                               33247.0       \n",
       "10010004                                               52703.0       \n",
       "10010005                                               46622.0       \n",
       "\n",
       "metric_name  Average age of the population  \\\n",
       "geo_code                                     \n",
       "10010001                              49.1   \n",
       "10010002                              38.7   \n",
       "10010003                              45.8   \n",
       "10010004                              44.5   \n",
       "10010005                              37.4   \n",
       "\n",
       "metric_name  Average monthly shelter costs for owned dwellings ($)  \\\n",
       "geo_code                                                             \n",
       "10010001                                                 625.0       \n",
       "10010002                                                1224.0       \n",
       "10010003                                                 824.0       \n",
       "10010004                                                1412.0       \n",
       "10010005                                                1491.0       \n",
       "\n",
       "metric_name  Average monthly shelter costs for rented dwellings ($)  \\\n",
       "geo_code                                                              \n",
       "10010001                                                 721.0        \n",
       "10010002                                                 951.0        \n",
       "10010003                                                 735.0        \n",
       "10010004                                                1043.0        \n",
       "10010005                                                 979.0        \n",
       "\n",
       "metric_name  Average value of dwellings ($)  Condominium  Employed  \\\n",
       "geo_code                                                             \n",
       "10010001                           169524.0         10.0    3410.0   \n",
       "10010002                           317514.0         10.0    2045.0   \n",
       "10010003                           219755.0         60.0    4200.0   \n",
       "10010004                           407155.0        285.0    4735.0   \n",
       "10010005                           383891.0         15.0    4785.0   \n",
       "\n",
       "metric_name  Employment rate  Immigrants  In the labour force  ...  \\\n",
       "geo_code                                                       ...   \n",
       "10010001                41.7        90.0               4095.0  ...   \n",
       "10010002                60.1        65.0               2315.0  ...   \n",
       "10010003                43.5       100.0               5155.0  ...   \n",
       "10010004                57.7       965.0               5120.0  ...   \n",
       "10010005                64.8       150.0               5175.0  ...   \n",
       "\n",
       "metric_name  Not condominium  Not in the labour force   Owner  \\\n",
       "geo_code                                                        \n",
       "10010001              4040.0                   4075.0  3715.0   \n",
       "10010002              1580.0                   1090.0  1435.0   \n",
       "10010003              4705.0                   4490.0  3945.0   \n",
       "10010004              3680.0                   3085.0  3000.0   \n",
       "10010005              3400.0                   2205.0  2930.0   \n",
       "\n",
       "metric_name  Participation rate  Population density per square kilometre  \\\n",
       "geo_code                                                                   \n",
       "10010001                   50.1                                      9.8   \n",
       "10010002                   68.0                                     45.5   \n",
       "10010003                   53.4                                     58.5   \n",
       "10010004                   62.4                                    296.3   \n",
       "10010005                   70.1                                    189.5   \n",
       "\n",
       "metric_name  Population, 2016  Renter  \\\n",
       "geo_code                                \n",
       "10010001               9334.0   340.0   \n",
       "10010002               4204.0   150.0   \n",
       "10010003              11417.0   820.0   \n",
       "10010004              10406.0   965.0   \n",
       "10010005               9442.0   480.0   \n",
       "\n",
       "metric_name  Total - Private households by tenure - 25% sample data  \\\n",
       "geo_code                                                              \n",
       "10010001                                                4050.0        \n",
       "10010002                                                1590.0        \n",
       "10010003                                                4765.0        \n",
       "10010004                                                3965.0        \n",
       "10010005                                                3415.0        \n",
       "\n",
       "metric_name  Unemployed  Unemployment rate  \n",
       "geo_code                                    \n",
       "10010001          690.0               16.8  \n",
       "10010002          270.0               11.7  \n",
       "10010003          955.0               18.5  \n",
       "10010004          385.0                7.5  \n",
       "10010005          385.0                7.4  \n",
       "\n",
       "[5 rows x 27 columns]"
      ]
     },
     "execution_count": 41,
     "metadata": {},
     "output_type": "execute_result"
    }
   ],
   "source": [
    "df_wide.head()"
   ]
  },
  {
   "cell_type": "code",
   "execution_count": 42,
   "id": "2c572e28-55ef-49bd-af52-add1d17561ce",
   "metadata": {},
   "outputs": [],
   "source": [
    "X = df_wide[feature_columns].values\n",
    "y = df_wide[target_column].values"
   ]
  },
  {
   "cell_type": "code",
   "execution_count": 43,
   "id": "ceb2dfe6-3528-4d68-8306-da67af9be925",
   "metadata": {},
   "outputs": [],
   "source": [
    "lm = LinearRegression()"
   ]
  },
  {
   "cell_type": "code",
   "execution_count": 44,
   "id": "5cf55d65-23d9-4ec7-a8c7-42b4460d61a4",
   "metadata": {},
   "outputs": [],
   "source": [
    "model = lm.fit(X,y)"
   ]
  },
  {
   "cell_type": "code",
   "execution_count": 45,
   "id": "d50265d6-6eee-407a-8d5f-0ee0c6b511e0",
   "metadata": {},
   "outputs": [],
   "source": [
    "predictions  =  model.predict(X)\n",
    "score        =  model.score(X, y)"
   ]
  },
  {
   "cell_type": "code",
   "execution_count": 46,
   "id": "7de50182-75d6-4bc0-956d-3fee61799f35",
   "metadata": {},
   "outputs": [
    {
     "name": "stdout",
     "output_type": "stream",
     "text": [
      "[ 1.32597160e-01 -5.29098852e-02 -1.59828662e-02 -6.25708202e+01\n",
      " -1.20704063e+02  1.44663036e+00 -6.92387502e-01 -8.71809379e-01\n",
      " -1.89657188e+01 -1.81469494e+00 -1.87803723e+00  2.09717460e+01\n",
      "  2.10086632e+01 -8.90823067e+00  1.15784651e+01 -3.60382216e-02\n",
      "  4.17034951e-02 -2.75804660e-01 -1.04543371e+00 -1.69718654e+01\n",
      "  1.73222259e+01  2.12003803e+01  2.16394447e-01  4.42951199e+02\n",
      " -7.64903332e+02 -2.38893217e+02]\n",
      "13530.39083604265\n"
     ]
    }
   ],
   "source": [
    "print(model.coef_)\n",
    "print(model.intercept_)"
   ]
  },
  {
   "cell_type": "code",
   "execution_count": 47,
   "id": "29ae259d-d6ef-40bd-a27e-0f21f23d7901",
   "metadata": {},
   "outputs": [
    {
     "name": "stdout",
     "output_type": "stream",
     "text": [
      "0.8444531517742869\n"
     ]
    }
   ],
   "source": [
    "from sklearn.metrics import r2_score\n",
    "\n",
    "print(r2_score(y, predictions))"
   ]
  },
  {
   "cell_type": "markdown",
   "id": "a5968fb3-f63e-4f28-98d7-0db6716c472c",
   "metadata": {},
   "source": [
    "For pushing this further, I'd want to do feature engineering, maybe normalizing all data to be in the form of ratios"
   ]
  },
  {
   "cell_type": "code",
   "execution_count": 48,
   "id": "d72d68bf-73d0-4a0d-9563-5b6ffe19a8d1",
   "metadata": {},
   "outputs": [],
   "source": [
    "feature_columns = ['Median after-tax income in 2015 among recipients ($)',\n",
    "                   'Median monthly shelter costs for owned dwellings ($)',\n",
    "                   'Average monthly shelter costs for owned dwellings ($)',\n",
    "                   'Median value of dwellings ($)',\n",
    "                   'Average value of dwellings ($)',\n",
    "                   'Median monthly shelter costs for rented dwellings ($)',\n",
    "                   'Average monthly shelter costs for rented dwellings ($)',\n",
    "                   'Participation rate']"
   ]
  },
  {
   "cell_type": "code",
   "execution_count": 49,
   "id": "7fbbd01a-e261-4378-bf28-b2a0d105d18a",
   "metadata": {},
   "outputs": [],
   "source": [
    "X = df_wide[feature_columns].values\n",
    "y = df_wide[target_column].values"
   ]
  },
  {
   "cell_type": "code",
   "execution_count": 50,
   "id": "02e04d77-1d3e-42fb-be30-159c80a2df25",
   "metadata": {},
   "outputs": [],
   "source": [
    "lm = LinearRegression()"
   ]
  },
  {
   "cell_type": "code",
   "execution_count": 51,
   "id": "ece297d1-30ba-4be5-b4a6-dfeca489c732",
   "metadata": {},
   "outputs": [],
   "source": [
    "model = lm.fit(X,y)"
   ]
  },
  {
   "cell_type": "code",
   "execution_count": 52,
   "id": "e9ebb989-27c8-484c-ac92-b95223ffe1b2",
   "metadata": {},
   "outputs": [],
   "source": [
    "predictions  =  model.predict(X)\n",
    "score        =  model.score(X, y)"
   ]
  },
  {
   "cell_type": "code",
   "execution_count": 53,
   "id": "8c35689d-c9d6-4dff-895e-1ebdef9c9829",
   "metadata": {},
   "outputs": [
    {
     "name": "stdout",
     "output_type": "stream",
     "text": [
      "[ 1.34382872e+00 -6.40130401e+00  6.30570095e+00 -3.62557437e-02\n",
      "  4.34817207e-02 -6.64151701e-01 -9.79970641e-01 -1.81132123e+02]\n",
      "4789.74679673303\n"
     ]
    }
   ],
   "source": [
    "print(model.coef_)\n",
    "print(model.intercept_)"
   ]
  },
  {
   "cell_type": "code",
   "execution_count": 54,
   "id": "d8246f01-b8d8-4947-81a8-62fccb45713e",
   "metadata": {},
   "outputs": [
    {
     "name": "stdout",
     "output_type": "stream",
     "text": [
      "0.8161240132513918\n"
     ]
    }
   ],
   "source": [
    "print(r2_score(y, predictions))"
   ]
  },
  {
   "cell_type": "code",
   "execution_count": null,
   "id": "a2aa5d57-baaa-4d78-97b4-ff6301efdab2",
   "metadata": {},
   "outputs": [],
   "source": []
  }
 ],
 "metadata": {
  "kernelspec": {
   "display_name": "Python 3 (ipykernel)",
   "language": "python",
   "name": "python3"
  },
  "language_info": {
   "codemirror_mode": {
    "name": "ipython",
    "version": 3
   },
   "file_extension": ".py",
   "mimetype": "text/x-python",
   "name": "python",
   "nbconvert_exporter": "python",
   "pygments_lexer": "ipython3",
   "version": "3.10.6"
  }
 },
 "nbformat": 4,
 "nbformat_minor": 5
}
